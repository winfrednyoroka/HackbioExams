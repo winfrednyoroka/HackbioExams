{
 "cells": [
  {
   "cell_type": "markdown",
   "metadata": {},
   "source": [
    "# Statistics for life scientists"
   ]
  },
  {
   "cell_type": "markdown",
   "metadata": {},
   "source": [
    "### Instructions\n",
    "- Once youare through save your notebooks and scripts appropriately with your firstname and send a pull request"
   ]
  },
  {
   "cell_type": "markdown",
   "metadata": {},
   "source": [
    "1. Use the following information to answer the next questions. A grocery store is interested in how much money, on average, their customers spend each visit in the produce department. Using their store records, they draw a sample of 1,000 visits and calculate each customer’s average spending on produce.\n",
    "\n",
    "i). Identify the population, sample, parameter, statistic, variable, and data for this example.\n",
    "\n",
    "ii). The study finds that the mean amount spent on produce per visit by the customers in the sample is $12.84. This is an example of a:"
   ]
  },
  {
   "cell_type": "markdown",
   "metadata": {},
   "source": [
    "2. Use the following information to answer the questions that follow. A health club is interested in knowing how many times a typical member uses the club in a week. They decide to ask every tenth customer on a specified day to complete a short survey including information about how many times they have visited the club in the past week.\n",
    "\n",
    "i) What kind of a sampling design is this?\n",
    "\n",
    ". cluster\n",
    "\n",
    ". stratified\n",
    "\n",
    ". simple random\n",
    "\n",
    ". systematic\n",
    "\n",
    "ii) “Number of visits per week” is what kind of data?\n",
    "\n",
    "qualitative\n",
    "\n",
    "quantitative-continuous\n",
    "\n",
    "quantitative-discrete"
   ]
  },
  {
   "cell_type": "markdown",
   "metadata": {},
   "source": [
    "3. Use the following information to answer the next three questions. 1; 1; 2; 3; 4; 4; 5; 5; 6; 7; 7; 8; 9\n",
    "\n",
    "i). What is the median for this data?\n",
    "\n",
    "ii). What is the first quartile for this data?\n",
    "\n",
    "iii). What is the third quartile for this data?"
   ]
  },
  {
   "cell_type": "markdown",
   "metadata": {},
   "source": [
    "4. Use the following information to answer the question below. 10; 11; 15; 15; 17; 22\n",
    "\n",
    "i). Compute the mean and standard deviation for this data; use the sample formula for the standard deviation."
   ]
  },
  {
   "cell_type": "markdown",
   "metadata": {},
   "source": [
    "5. A statistics instructor is paid a per-class fee of $2,000 plus $100 for each student in the class. How would you express this information in a linear equation?"
   ]
  },
  {
   "cell_type": "markdown",
   "metadata": {},
   "source": [
    "6. Describe the pattern in this scatter plot, and decide whether the X and Y variables would be good candidates for linear regression.\n",
    "[image]!(https://philschatz.com/statistics-book/resources/CNX_Stats_AppendixB_Figure_1pt2.jpg)"
   ]
  },
  {
   "cell_type": "markdown",
   "metadata": {},
   "source": [
    "7. Using the built in data in R called  “Women”, write down a function that computes the standard error of the women height. (10mks)"
   ]
  },
  {
   "cell_type": "markdown",
   "metadata": {},
   "source": [
    "### Data visualization"
   ]
  },
  {
   "cell_type": "markdown",
   "metadata": {},
   "source": [
    "8. Using the built in data in R called “chickWeight”. Using the ggplot package , plot the box plot in R. Illustrate clearly how you have labelled the axis and also colour the outliers in red if any exists.  (10mks)"
   ]
  }
 ],
 "metadata": {
  "kernelspec": {
   "display_name": "Python 3",
   "language": "python",
   "name": "python3"
  },
  "language_info": {
   "codemirror_mode": {
    "name": "ipython",
    "version": 3
   },
   "file_extension": ".py",
   "mimetype": "text/x-python",
   "name": "python",
   "nbconvert_exporter": "python",
   "pygments_lexer": "ipython3",
   "version": "3.8.5"
  }
 },
 "nbformat": 4,
 "nbformat_minor": 4
}
